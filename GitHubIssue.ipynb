{
 "cells": [
  {
   "cell_type": "code",
   "execution_count": 17,
   "metadata": {
    "dotnet_interactive": {
     "language": "pwsh"
    },
    "polyglot_notebook": {
     "kernelName": "pwsh"
    }
   },
   "outputs": [],
   "source": [
    "#dotnet tool install --global PowerShell                      #This is needed or the Automation namespace doesn't load\n",
    "#Install-PSResource PowerShellForGitHub -Scope AllUsers -Verbose\n",
    "#$Cred = New-Object System.Management.Automation.PSCredential \"<username>\",$(ConvertTo-SecureString '<PAT>' -asplaintext -force)\n",
    "#Set-GitHubAuthentication -Credential $Cred \n"
   ]
  },
  {
   "cell_type": "code",
   "execution_count": 22,
   "metadata": {
    "dotnet_interactive": {
     "language": "pwsh"
    },
    "polyglot_notebook": {
     "kernelName": "pwsh"
    }
   },
   "outputs": [
    {
     "data": {
      "text/plain": []
     },
     "metadata": {},
     "output_type": "display_data"
    },
    {
     "name": "stdout",
     "output_type": "stream",
     "text": [
      "\n",
      "\u001b[32;1mLabel                     \u001b[0m\u001b[32;1m Count\u001b[0m\u001b[32;1m Percentage\u001b[0m\n",
      "\u001b[32;1m-----                     \u001b[0m \u001b[32;1m-----\u001b[0m \u001b[32;1m----------\u001b[0m\n",
      "Needs-Triage                 433     50.580\n",
      "Issue-Enhancement            302     35.280\n",
      "WG-Engine                    141     16.470\n",
      "Issue-Bug                     97     11.330\n",
      "Up-for-Grabs                  79      9.230\n",
      "Review - Needed               74      8.640\n",
      "WG-Cmdlets                    72      8.410\n",
      "WG-Cmdlets-Utility            64      7.480\n",
      "WG-Language                   48      5.610\n",
      "Issue-Question                44      5.140\n",
      "In-PR                         44      5.140\n",
      "Issue-Discussion              42      4.910\n",
      "Extra Small                   39      4.560\n",
      "WG-Cmdlets-Management         37      4.320\n",
      "WG-Cmdlets-Core               35      4.090\n",
      "WG-NeedsReview                34      3.970\n",
      "WG-Interactive-Console        32      3.740\n",
      "PowerShell-Docs not needed    26      3.040\n",
      "\n"
     ]
    },
    {
     "ename": "Error",
     "evalue": "Command failed: SubmitCode: $RepositoryOwner, $RepositoryName = 'PowerShell',  ...",
     "output_type": "error",
     "traceback": [
      "Command failed: SubmitCode: $RepositoryOwner, $RepositoryName = 'PowerShell',  ..."
     ]
    }
   ],
   "source": [
    "$RepositoryOwner, $RepositoryName = 'PowerShell', 'PowerShell'#Change this to the target account and repo name. \n",
    "$ErrorActionPreference ='SilentlyContinue'                    #PowerShellForGitHub's update check kfunction was causing an error with .Net interactive\n",
    "$issues = Get-GitHubIssue   -OwnerName $RepositoryOwner -RepositoryName $RepositoryName -State Open\n",
    "if (-not $issues.Count) { Write-Host \"No open issues found.\"; return }\n",
    "\n",
    "$labelCounts = @{}\n",
    "foreach ($issue in $issues) {\n",
    "    foreach ($label in $issue.labels) {$labelCounts[$label.name]++}\n",
    "}\n",
    "$totalIssues = $issues.Count\n",
    "$labelStats = $labelCounts.Keys | ForEach-Object {\n",
    "    [PSCustomObject]@{\n",
    "        Label      = $_\n",
    "        Count      = $labelCounts[$_]\n",
    "        Percentage = [math]::Round(($labelCounts[$_] / $totalIssues) * 100, 2)\n",
    "    }\n",
    "}\n",
    "\n",
    "$labelStats|? Percentage -gt 3|Sort Percentage -Descending|FT #This is the table with count and percentage\">3%\" of which labels are applied to how many issues."
   ]
  }
 ],
 "metadata": {
  "kernelspec": {
   "display_name": ".NET (PowerShell)",
   "language": "PowerShell",
   "name": ".net-pwsh"
  },
  "language_info": {
   "name": "pwsh"
  },
  "polyglot_notebook": {
   "kernelInfo": {
    "defaultKernelName": "pwsh",
    "items": [
     {
      "aliases": [],
      "languageName": "pwsh",
      "name": "pwsh"
     }
    ]
   }
  }
 },
 "nbformat": 4,
 "nbformat_minor": 2
}
