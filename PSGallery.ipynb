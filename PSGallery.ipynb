{
 "cells": [
  {
   "cell_type": "code",
   "execution_count": null,
   "metadata": {
    "dotnet_interactive": {
     "language": "pwsh"
    },
    "polyglot_notebook": {
     "kernelName": "pwsh"
    },
    "vscode": {
     "languageId": "polyglot-notebook"
    }
   },
   "outputs": [],
   "source": [
    "# 'C:\\program files\\powershell\\7\\Modules' is missing from ($env:PSModulePath -split ';') on .Net interactive notebooks\n",
    "#ipmo -Name \"C:\\Program Files\\PowerShell\\7\\Modules\\Microsoft.PowerShell.PSResourceGet\\Microsoft.PowerShell.PSResourceGet.psd1\""
   ]
  },
  {
   "cell_type": "code",
   "execution_count": 8,
   "metadata": {
    "dotnet_interactive": {
     "language": "pwsh"
    },
    "polyglot_notebook": {
     "kernelName": "pwsh"
    },
    "vscode": {
     "languageId": "polyglot-notebook"
    }
   },
   "outputs": [
    {
     "name": "stdout",
     "output_type": "stream",
     "text": [
      "\n",
      "\u001b[32;1mVersion \u001b[0m\u001b[32;1m Name        \u001b[0m\u001b[32;1m Author      \u001b[0m\u001b[32;1m CompanyName \u001b[0m\u001b[32;1m Copyright      \u001b[0m\u001b[32;1m Dependencies\u001b[0m\u001b[32;1m Publish \u001b[0m\u001b[32;1m ProjectUri             \u001b[0m\u001b[32;1m Description\u001b[0m\n",
      "\u001b[32;1m------- \u001b[0m \u001b[32;1m----        \u001b[0m \u001b[32;1m------      \u001b[0m \u001b[32;1m----------- \u001b[0m \u001b[32;1m---------      \u001b[0m \u001b[32;1m------------\u001b[0m \u001b[32;1m------- \u001b[0m \u001b[32;1m----------             \u001b[0m \u001b[32;1m-----------\u001b[0m\n",
      "1.1.3    PS.BitBucket i9shankar    itsmeshanka… Copyright � 20… {}          Feb 18   github.com/i9shankar/p… Bitbucket autom…\n",
      "1.1.0    BitbucketSe… WebMD Healt… WebMD Healt… (c) 2016 - 201… {}           Sep 23   github.com/webmd-healt… The Bitbucket S…\n",
      "0.5.0.15 BitBucketSe… Nicholas Di…              (c) 2017 Nicho… {WebRequest} Apr 18                           Cmdlets for Atl…\n",
      "0.3.0.34 BitBucketCl… Nicholas Di…              (c) 2017 Nicho… {Helpers}    Mar 18                           Cmdlets for Atl…\n",
      "1.6.0    BitbucketCLI /__w/bitbuc… Unknown      (c) /__w/bitbu… {}           Aug 21                           Bitbucket API C…\n",
      "1.1.2    Bitbucket.v2 Paul Towler               (c) 2017 Paul … {}           Oct 17   github.com/mrptsai/Bit… Provides cmdlet…\n",
      "1.0.5    Bitbucket    Yohan Belval              (c) 2017 Yohan… {}           Jan 17   github.com/yohanb/powe… Provides cmdlet…\n",
      "0.32.1   Atlassian.B… Mark Studer  BeyondCompu… (c) BeyondComp… {}           Dec 23   github.com/beyondcompu… Provides cmdlet…\n",
      "\n"
     ]
    }
   ],
   "source": [
    "Find-PSResource *bitb* | Format-Table -Property @{Expression=\"Version\"; Width=8}, @{Expression=\"Name\"; Width=12},@{Expression=\"Author\"; Width=12}, \n",
    "    @{Expression=\"CompanyName\"; Width=12}, @{Expression=\"Copyright\"; Width=15}, @{Expression=\"Dependencies\"; Width=12},\n",
    "    @{N='Publish';E={$_.PublishedDate.tostring('MMM yy')}; Width=8}, @{N='ProjectUri';E={$_.ProjectUri.OriginalString -replace '^https://', ''};Width = 23},\n",
    "    @{Expression=\"Description\"; Width=20}"
   ]
  },
  {
   "cell_type": "code",
   "execution_count": null,
   "metadata": {
    "dotnet_interactive": {
     "language": "pwsh"
    },
    "polyglot_notebook": {
     "kernelName": "pwsh"
    },
    "vscode": {
     "languageId": "polyglot-notebook"
    }
   },
   "outputs": [],
   "source": [
    "#This searches the entire gallery for a specific function name. So this takes a long time.\n"
   ]
  }
 ],
 "metadata": {
  "kernelspec": {
   "display_name": ".NET (PowerShell)",
   "language": "PowerShell",
   "name": ".net-pwsh"
  },
  "language_info": {
   "name": "pwsh"
  },
  "polyglot_notebook": {
   "kernelInfo": {
    "defaultKernelName": "pwsh",
    "items": [
     {
      "aliases": [],
      "languageName": "pwsh",
      "name": "pwsh"
     }
    ]
   }
  }
 },
 "nbformat": 4,
 "nbformat_minor": 2
}
