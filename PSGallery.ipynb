{
 "cells": [
  {
   "cell_type": "code",
   "execution_count": 15,
   "metadata": {
    "dotnet_interactive": {
     "language": "pwsh"
    },
    "polyglot_notebook": {
     "kernelName": "pwsh"
    }
   },
   "outputs": [],
   "source": []
  },
  {
   "cell_type": "code",
   "execution_count": 29,
   "metadata": {
    "dotnet_interactive": {
     "language": "pwsh"
    },
    "polyglot_notebook": {
     "kernelName": "pwsh"
    }
   },
   "outputs": [
    {
     "name": "stdout",
     "output_type": "stream",
     "text": [
      "\n",
      "\u001b[32;1mVersion \u001b[0m\u001b[32;1m Name        \u001b[0m\u001b[32;1m Author      \u001b[0m\u001b[32;1m CompanyName \u001b[0m\u001b[32;1m Copyright      \u001b[0m\u001b[32;1m Dependencies\u001b[0m\u001b[32;1m Publish \u001b[0m\u001b[32;1m ProjectUri               \u001b[0m\u001b[32;1m Description\u001b[0m\n",
      "\u001b[32;1m------- \u001b[0m \u001b[32;1m----        \u001b[0m \u001b[32;1m------      \u001b[0m \u001b[32;1m----------- \u001b[0m \u001b[32;1m---------      \u001b[0m \u001b[32;1m------------\u001b[0m \u001b[32;1m------- \u001b[0m \u001b[32;1m----------               \u001b[0m \u001b[32;1m-----------\u001b[0m\n",
      "0.32.1   Atlassian.B… Mark Studer  eelkram      (c) BeyondComp… {}           Dec 23   github.com/beyondcomputi… Provides cmdl…\n",
      "1.1.0    BitbucketSe… WebMD Healt… {pshdo, web… (c) 2016 - 201… {}           Sep 23   github.com/webmd-health-… The Bitbucket…\n",
      "1.1.2    Bitbucket.v2 Paul Towler  mrptsai      (c) 2017 Paul … {}           Oct 17   github.com/mrptsai/Bitbu… Provides cmdl…\n",
      "1.1.3    PS.BitBucket i9shankar    itsmeshanka… Copyright � 20… {}           Feb 18   github.com/i9shankar/ps-… Bitbucket aut…\n",
      "1.0.5    Bitbucket    Yohan Belval ybelval      (c) 2017 Yohan… {}           Jan 17   github.com/yohanb/powers… Provides cmdl…\n",
      "1.6.0    BitbucketCLI /__w/bitbuc… jsoliveir    (c) /__w/bitbu… {}           Aug 21                             Bitbucket API…\n",
      "0.3.0.34 BitBucketCl… Nicholas Di… NicholasDil… (c) 2017 Nicho… {System.Col… Mar 18                             Cmdlets for A…\n",
      "0.5.0.15 BitBucketSe… Nicholas Di… NicholasDil… (c) 2017 Nicho… {System.Col… Apr 18                             Cmdlets for A…\n",
      "\n"
     ]
    }
   ],
   "source": [
    "Find-Module *bitb* | Format-Table -Property @{Expression=\"Version\"; Width=8},\n",
    "    @{Expression=\"Name\"; Width=12},@{Expression=\"Author\"; Width=12}, @{Expression=\"CompanyName\"; Width=12},\n",
    "    @{Expression=\"Copyright\"; Width=15}, @{Expression=\"Dependencies\"; Width=12},\n",
    "    @{N='Publish';E={$_.PublishedDate.tostring('MMM yy')}; Width=8},\n",
    "    @{N = 'ProjectUri';E = { $_.ProjectUri.OriginalString -replace '^https://', '' };Width = 25},\n",
    "    @{Expression=\"Description\"; Width=20}"
   ]
  }
 ],
 "metadata": {
  "kernelspec": {
   "display_name": ".NET (PowerShell)",
   "language": "PowerShell",
   "name": ".net-pwsh"
  },
  "language_info": {
   "name": "pwsh"
  },
  "polyglot_notebook": {
   "kernelInfo": {
    "defaultKernelName": "pwsh",
    "items": [
     {
      "aliases": [],
      "languageName": "pwsh",
      "name": "pwsh"
     }
    ]
   }
  }
 },
 "nbformat": 4,
 "nbformat_minor": 2
}
