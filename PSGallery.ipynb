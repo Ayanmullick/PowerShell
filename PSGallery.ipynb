{
 "cells": [
  {
   "cell_type": "code",
   "execution_count": null,
   "metadata": {
    "dotnet_interactive": {
     "language": "pwsh"
    },
    "polyglot_notebook": {
     "kernelName": "pwsh"
    },
    "vscode": {
     "languageId": "polyglot-notebook"
    }
   },
   "outputs": [],
   "source": [
    "# 'C:\\program files\\powershell\\7\\Modules' is missing from ($env:PSModulePath -split ';') on .Net interactive notebooks\n",
    "#ipmo -Name \"C:\\Program Files\\PowerShell\\7\\Modules\\Microsoft.PowerShell.PSResourceGet\\Microsoft.PowerShell.PSResourceGet.psd1\""
   ]
  },
  {
   "cell_type": "code",
   "execution_count": 11,
   "metadata": {
    "dotnet_interactive": {
     "language": "pwsh"
    },
    "polyglot_notebook": {
     "kernelName": "pwsh"
    },
    "vscode": {
     "languageId": "polyglot-notebook"
    }
   },
   "outputs": [
    {
     "name": "stdout",
     "output_type": "stream",
     "text": [
      "\n",
      "\u001b[32;1mVersion \u001b[0m\u001b[32;1m Name        \u001b[0m\u001b[32;1m Author      \u001b[0m\u001b[32;1m CompanyName \u001b[0m\u001b[32;1m Copyright   \u001b[0m\u001b[32;1m Dependencies\u001b[0m\u001b[32;1m Publish \u001b[0m\u001b[32;1m ProjectUri          \u001b[0m\u001b[32;1m Description\u001b[0m\n",
      "\u001b[32;1m------- \u001b[0m \u001b[32;1m----        \u001b[0m \u001b[32;1m------      \u001b[0m \u001b[32;1m----------- \u001b[0m \u001b[32;1m---------   \u001b[0m \u001b[32;1m------------\u001b[0m \u001b[32;1m------- \u001b[0m \u001b[32;1m----------          \u001b[0m \u001b[32;1m-----------\u001b[0m\n",
      "1.1.3    PS.BitBucket i9shankar    itsmeshanka… Copyright �… {}           Feb 18   github.com/i9shanka… Bitbucket automatio…\n",
      "1.1.0    BitbucketSe… WebMD Healt… WebMD Healt… (c) 2016 - … {}           Sep 23   github.com/webmd-he… The Bitbucket Serve…\n",
      "0.5.0.15 BitBucketSe… Nicholas Di…              (c) 2017 Ni… {WebRequest} Apr 18                        Cmdlets for Atlassi…\n",
      "0.3.0.34 BitBucketCl… Nicholas Di…              (c) 2017 Ni… {Helpers}    Mar 18                        Cmdlets for Atlassi…\n",
      "1.6.0    BitbucketCLI /__w/bitbuc… Unknown      (c) /__w/bi… {}           Aug 21                        Bitbucket API Comma…\n",
      "1.1.2    Bitbucket.v2 Paul Towler               (c) 2017 Pa… {}           Oct 17   github.com/mrptsai/… Provides cmdlets fo…\n",
      "1.0.5    Bitbucket    Yohan Belval              (c) 2017 Yo… {}           Jan 17   github.com/yohanb/p… Provides cmdlets fo…\n",
      "0.32.1   Atlassian.B… Mark Studer  BeyondCompu… (c) BeyondC… {}           Dec 23   github.com/beyondco… Provides cmdlets fo…\n",
      "\n"
     ]
    }
   ],
   "source": [
    "Find-PSResource *bitb* | Format-Table @{E=\"Version\";W=8},@{E=\"Name\";W=12},@{E=\"Author\";W=12},@{E=\"CompanyName\"; W=12},\n",
    "    @{E=\"Copyright\"; W=12},@{E=\"Dependencies\"; W=12}, @{N='Publish';E={$_.PublishedDate.tostring('MMM yy')}; W=8},\n",
    "    @{N='ProjectUri';E={$_.ProjectUri.OriginalString -replace '^https://', ''};W=20},@{E=\"Description\"; W=20}"
   ]
  },
  {
   "cell_type": "code",
   "execution_count": null,
   "metadata": {
    "dotnet_interactive": {
     "language": "pwsh"
    },
    "polyglot_notebook": {
     "kernelName": "pwsh"
    },
    "vscode": {
     "languageId": "polyglot-notebook"
    }
   },
   "outputs": [],
   "source": [
    "#This searches the entire gallery for a specific function name. So this takes a long time.\n"
   ]
  }
 ],
 "metadata": {
  "kernelspec": {
   "display_name": ".NET (PowerShell)",
   "language": "PowerShell",
   "name": ".net-pwsh"
  },
  "language_info": {
   "name": "pwsh"
  },
  "polyglot_notebook": {
   "kernelInfo": {
    "defaultKernelName": "pwsh",
    "items": [
     {
      "aliases": [],
      "languageName": "pwsh",
      "name": "pwsh"
     }
    ]
   }
  }
 },
 "nbformat": 4,
 "nbformat_minor": 2
}
