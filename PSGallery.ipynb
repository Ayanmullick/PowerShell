{
 "cells": [
  {
   "cell_type": "code",
   "execution_count": null,
   "metadata": {
    "dotnet_interactive": {
     "language": "pwsh"
    },
    "polyglot_notebook": {
     "kernelName": "pwsh"
    },
    "vscode": {
     "languageId": "polyglot-notebook"
    }
   },
   "outputs": [],
   "source": [
    "# 'C:\\program files\\powershell\\7\\Modules' is missing from ($env:PSModulePath -split ';') on .Net interactive notebooks\n",
    "#ipmo -Name \"C:\\Program Files\\PowerShell\\7\\Modules\\Microsoft.PowerShell.PSResourceGet\\Microsoft.PowerShell.PSResourceGet.psd1\""
   ]
  },
  {
   "cell_type": "code",
   "execution_count": 26,
   "metadata": {
    "dotnet_interactive": {
     "language": "pwsh"
    },
    "polyglot_notebook": {
     "kernelName": "pwsh"
    },
    "vscode": {
     "languageId": "polyglot-notebook"
    }
   },
   "outputs": [
    {
     "name": "stdout",
     "output_type": "stream",
     "text": [
      "\n",
      "\u001b[32;1mVersion \u001b[0m\u001b[32;1m Name        \u001b[0m\u001b[32;1m Author      \u001b[0m\u001b[32;1m CompanyName \u001b[0m\u001b[32;1m Copyright   \u001b[0m\u001b[32;1m Dependencies\u001b[0m\u001b[32;1m Publish \u001b[0m\u001b[32;1m ProjectUri        \u001b[0m\u001b[32;1m Description\u001b[0m\n",
      "\u001b[32;1m------- \u001b[0m \u001b[32;1m----        \u001b[0m \u001b[32;1m------      \u001b[0m \u001b[32;1m----------- \u001b[0m \u001b[32;1m---------   \u001b[0m \u001b[32;1m------------\u001b[0m \u001b[32;1m------- \u001b[0m \u001b[32;1m----------        \u001b[0m \u001b[32;1m-----------\u001b[0m\n",
      "1.1.3    PS.BitBucket i9shankar    itsmeshanka… Copyright �… {}           Feb 18   github.com/i9shan… Bitbucket automat…\n",
      "1.1.0    BitbucketSe… WebMD Healt… WebMD Healt… (c) 2016 - … {}           Sep 23   github.com/webmd-… The Bitbucket Ser…\n",
      "0.5.0.15 BitBucketSe… Nicholas Di…              (c) 2017 Ni… {WebRequest} Apr 18                      Cmdlets for Atlas…\n",
      "0.3.0.34 BitBucketCl… Nicholas Di…              (c) 2017 Ni… {Helpers}    Mar 18                      Cmdlets for Atlas…\n",
      "1.6.0    BitbucketCLI /__w/bitbuc… Unknown      (c) /__w/bi… {}           Aug 21                      Bitbucket API Com…\n",
      "1.1.2    Bitbucket.v2 Paul Towler               (c) 2017 Pa… {}           Oct 17   github.com/mrptsa… Provides cmdlets …\n",
      "1.0.5    Bitbucket    Yohan Belval              (c) 2017 Yo… {}           Jan 17   github.com/yohanb… Provides cmdlets …\n",
      "0.32.1   Atlassian.B… Mark Studer  BeyondCompu… (c) BeyondC… {}           Dec 23   github.com/beyond… Provides cmdlets …\n",
      "\n"
     ]
    }
   ],
   "source": [
    "Find-PSResource *bitb* | Format-Table @{E=\"Version\";W=8},@{E=\"Name\";W=12},@{E=\"Author\";W=12},@{E=\"CompanyName\"; W=12},\n",
    "    @{E=\"Copyright\"; W=12},@{E=\"Dependencies\"; W=12}, @{N='Publish';E={$_.PublishedDate.tostring('MMM yy')}; W=8},\n",
    "    @{N='ProjectUri';E={$_.ProjectUri.OriginalString -replace '^https://',''};W=18}, # ^ will only replace 'https://' if it's at the start of the string\n",
    "    @{E=\"Description\"; W=18}"
   ]
  },
  {
   "cell_type": "code",
   "execution_count": 16,
   "metadata": {
    "dotnet_interactive": {
     "language": "pwsh"
    },
    "polyglot_notebook": {
     "kernelName": "pwsh"
    },
    "vscode": {
     "languageId": "polyglot-notebook"
    }
   },
   "outputs": [
    {
     "name": "stdout",
     "output_type": "stream",
     "text": [
      "\n",
      "\u001b[32;1mVersion \u001b[0m\u001b[32;1m Name           \u001b[0m\u001b[32;1m Author         \u001b[0m\u001b[32;1m CompanyName    \u001b[0m\u001b[32;1m Created \u001b[0m\u001b[32;1m Updated \u001b[0m\u001b[32;1m Publish \u001b[0m\u001b[32;1m Downloads \u001b[0m\u001b[32;1m Functions\u001b[0m\n",
      "\u001b[32;1m------- \u001b[0m \u001b[32;1m----           \u001b[0m \u001b[32;1m------         \u001b[0m \u001b[32;1m-----------    \u001b[0m \u001b[32;1m------- \u001b[0m \u001b[32;1m------- \u001b[0m \u001b[32;1m------- \u001b[0m \u001b[32;1m--------- \u001b[0m \u001b[32;1m---------\u001b[0m\n",
      "1.14.0   PSWriteHTML     Przemyslaw Klys Przemyslaw.Klys Dec 23   Dec 23   Dec 23   2221705    New-HTMLMarkdown\n",
      "1.0.24   PPoShTools      PPoSHGroup      PPoshGroup      Feb 22   Dec 23   Feb 22   329113     New-MarkdownDoc\n",
      "4.2.6    Universal       Ironman Softwa… adamdriscoll    Dec 23   Dec 23   Dec 23   61824      New-UDMarkdown\n",
      "2.7.1    MarkdownToHtml  WetHat          WetHat          Apr 22   Dec 23   Apr 22   17558      {Convert-MarkdownToHTML,…\n",
      "0.9.5    PowerShellAI    Douglas Finke   DougFinke       Dec 23   Dec 23   Dec 23   16917      ConvertFrom-GPTMarkdownT…\n",
      "1.1      PSMarkdown      ishu            ishu3101        Feb 16   Dec 23   Feb 16   16752      {ConvertTo-Markdown, Con…\n",
      "0.4.0    EditorServices… Patrick Meinec… SeeminglyScien… Sep 17   Dec 23   Sep 17   7261       ConvertTo-MarkdownHelp\n",
      "2.0.1    Utility.PS      Jason Thompson  jasoth          Mar 23   Dec 23   Mar 23   5443       ConvertTo-MarkdownTable\n",
      "1.0.3    AppianPS        Dejulia489      Dejulia489      Jun 22   Dec 23   Jun 22   4131       {ConvertTo-APNMarkdownDe…\n",
      "0.0.8    MarkdownPrince  Przemyslaw Klys Przemyslaw.Klys Mar 21   Dec 23   Mar 21   1204       {ConvertFrom-HTMLToMarkd…\n",
      "2.4.24   EbookBuilder    Friedrich Wein… FWN             Jan 22   Nov 23   Jan 22   625        {ConvertFrom-EBMarkdown,…\n",
      "0.2.7    PipeScript      James Brundage  Start-Automati… Dec 23   Dec 23   Dec 23   515        Language.Markdown\n",
      "1.0.54   tcdbtools       Tim Cartwright  tcartwright     Aug 23   Dec 23   Aug 23   492        ConvertTo-Markdown\n",
      "0.16.0   Brownserve.PST… Brownserve UK   {ShoddyGuard, … Sep 23   Dec 23   Sep 23   315        Remove-Markdown\n",
      "\n"
     ]
    }
   ],
   "source": [
    "#The new Microsoft.PowerShell.PSResourceGet module doesn't capture additional metadata\n",
    "#This searches the entire gallery for a specific function name. So this takes a long time.\n",
    "(Find-Module).Where{$_.AdditionalMetadata.Functions -like '*Convertto*markdown*'}|Sort {[int]$_.AdditionalMetadata.downloadCount} -Descending|\n",
    "    Format-Table @{E=\"Version\"; W=8},@{E=\"Name\"; W=15},@{E=\"Author\"; W=15},@{E=\"CompanyName\"; W=15},\n",
    "        @{N='Created';E={([DateTime]$_.AdditionalMetadata.created).ToString('MMM yy')}; W=8},\n",
    "        @{N='Updated';E={([DateTime]$_.AdditionalMetadata.lastUpdated).ToString('MMM yy')}; W=8},\n",
    "        @{N='Publish';E={$_.PublishedDate.ToString('MMM yy')}; W=8},@{N='Downloads';E={$_.AdditionalMetadata.downloadCount}; W=10},\n",
    "        @{N='Functions';E={($_.AdditionalMetadata.Functions -split ' ').Where{$_ -like '*markdown*'}}; W=25}"
   ]
  },
  {
   "cell_type": "code",
   "execution_count": 29,
   "metadata": {
    "dotnet_interactive": {
     "language": "pwsh"
    },
    "polyglot_notebook": {
     "kernelName": "pwsh"
    },
    "vscode": {
     "languageId": "polyglot-notebook"
    }
   },
   "outputs": [
    {
     "name": "stdout",
     "output_type": "stream",
     "text": [
      "\n",
      "\u001b[32;1mVersion      \u001b[0m\u001b[32;1m Name        \u001b[0m\u001b[32;1m Author      \u001b[0m\u001b[32;1m CompanyName  \u001b[0m\u001b[32;1m Downloads\u001b[0m\u001b[32;1m Update \u001b[0m\u001b[32;1m Created\u001b[0m\u001b[32;1m Description         \u001b[0m\u001b[32;1m Func\\File\u001b[0m\n",
      "\u001b[32;1m-------      \u001b[0m \u001b[32;1m----        \u001b[0m \u001b[32;1m------      \u001b[0m \u001b[32;1m-----------  \u001b[0m \u001b[32;1m---------\u001b[0m \u001b[32;1m------ \u001b[0m \u001b[32;1m-------\u001b[0m \u001b[32;1m-----------         \u001b[0m \u001b[32;1m---------\u001b[0m\n",
      "2022.6.23.188 Test-NetSta… Microsoft C… {dfcuomo, DF… 198141    Dec 23  Jun 22  Test-NetStack is a … helpers\\tcp.psm1, tools\\…\n",
      "9.13.1.2306   NetApp.ONTAP {Clinton Kn… SapanJain     32793     Dec 23  Jun 23  NetApp.ONTAP PowerS… webhelp.C\\cmdlet_Get-NcN…\n",
      "1.0.6         Citrix-Netw… David Brett  davebrett     1036      Dec 23  Jul 18  This module will in… Private\\Add-ADCCustomTCP…\n",
      "0.2.5         Noveris.Net… Noveris Pty… Noveris       361       Oct 23  Dec 20  Network Scanner      Add-NetScanTcpCheck\n",
      "20.1.23.1410  BWNetworkTe… Shannon Gra… realslacker   307       Dec 23  Jan 20  Network test utilit… Test-NetTcpPortOpen\n",
      "0.3.1         NetScan      Jesse Reich… archmachina   137       Nov 23  Apr 22  Network Scanner      Add-NetScanTcpCheck\n",
      "1.0.10        NET_Monitor  Roman Grigo… Zayl          128       Nov 23  Jan 22  The module can help… Watch-TcpConnection\n",
      "2.2.1         BicepNet.PS  Simon Wåhlin SimonWahlin   91        Dec 23  Sep 23  A thin wrapper arou… BicepNet.Core\\System.Ser…\n",
      "\n"
     ]
    }
   ],
   "source": [
    "#This looks for any tcp related function or file in any network related module\n",
    "$filter = { $_ -like '*tcp*' }  # File or function name filter\n",
    "$combineAndFilter = { param($module) #Parameterized script block that takes a module object as a parameter\n",
    "    (($module.AdditionalMetadata.Functions -split ' ') + ($module.AdditionalMetadata.FileList -split '\\|')).Where($filter)\n",
    "}\n",
    "$Format = {param($date) $date.ToString('MMM yy')}\n",
    "\n",
    "(Find-Module *net*).Where({ &$combineAndFilter $_ }) |Sort-Object {[int]$_.AdditionalMetadata.downloadCount} -Descending|\n",
    "    Format-Table @{E=\"Version\"; W=13},@{E=\"Name\"; W=12},@{E=\"Author\"; W=12},@{E=\"CompanyName\"; W=13},\n",
    "    @{N='Downloads';E={$_.AdditionalMetadata.downloadCount}; W=9},@{N='Update';E={&$Format ([DateTime]$_.AdditionalMetadata.Updated)}; W=7},\n",
    "    @{N='Created';E={&$Format ([DateTime]$_.AdditionalMetadata.created)}; W=7},@{E=\"Description\"; W=20},\n",
    "    @{N='Func\\File';E={$matchedItems=&$combineAndFilter $_ ;$matchedItems ? ($matchedItems -join ', ') : 'None'};W=25}"
   ]
  }
 ],
 "metadata": {
  "kernelspec": {
   "display_name": ".NET (PowerShell)",
   "language": "PowerShell",
   "name": ".net-pwsh"
  },
  "language_info": {
   "name": "pwsh"
  },
  "polyglot_notebook": {
   "kernelInfo": {
    "defaultKernelName": "pwsh",
    "items": [
     {
      "aliases": [],
      "languageName": "pwsh",
      "name": "pwsh"
     }
    ]
   }
  }
 },
 "nbformat": 4,
 "nbformat_minor": 2
}
