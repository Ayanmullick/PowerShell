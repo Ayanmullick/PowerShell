{
 "cells": [
  {
   "cell_type": "markdown",
   "metadata": {},
   "source": [
    "winget install 'Microsoft .NET SDK 7.0'  #Needed. Doesn't work on .Net 8\n",
    "### Health Check"
   ]
  },
  {
   "cell_type": "code",
   "execution_count": 1,
   "metadata": {
    "dotnet_interactive": {
     "language": "pwsh"
    },
    "polyglot_notebook": {
     "kernelName": "pwsh"
    },
    "vscode": {
     "languageId": "polyglot-notebook"
    }
   },
   "outputs": [
    {
     "data": {
      "text/plain": []
     },
     "metadata": {},
     "output_type": "display_data"
    },
    {
     "name": "stdout",
     "output_type": "stream",
     "text": [
      "\n",
      "Central Standard Time 12/2/2023 9:00:01 PM\n",
      "Boot                  Sat 12.2.23 10:36\n",
      "CpuUsage%             76\n",
      "RamUsage%             {51}\n",
      "C:%Free               {55}\n",
      "\n"
     ]
    }
   ],
   "source": [
    "[ordered]@{\"$((Get-TimeZone).Id)\" = Get-Date\n",
    "    'Boot'      = (Get-CimInstance win32_operatingsystem).lastbootuptime.ToString('ddd M.d.yy H:m')\n",
    "    'CpuUsage%' = (Get-CimInstance win32_processor | Measure-Object LoadPercentage -Average).Average\n",
    "    'RamUsage%' = {$os=Get-CimInstance win32_operatingsystem; [Math]::Ceiling(($os.TotalVisibleMemorySize-$os.FreePhysicalMemory)*100/$os.TotalVisibleMemorySize)}.Invoke()\n",
    "    'C:%Free'   = { $disk = Get-CimInstance Win32_LogicalDisk -Filter \"DeviceID='C:'\"; [Math]::Ceiling(($disk.FreeSpace / $disk.Size) * 100) }.Invoke()\n",
    "            } | ft -HideTableHeaders -AutoSize"
   ]
  },
  {
   "cell_type": "markdown",
   "metadata": {},
   "source": [
    "This shows which processes are consuming the most cpu, memory and network and have the most number of handles and threads currently on the system."
   ]
  },
  {
   "cell_type": "code",
   "execution_count": 7,
   "metadata": {
    "dotnet_interactive": {
     "language": "pwsh"
    },
    "polyglot_notebook": {
     "kernelName": "pwsh"
    },
    "vscode": {
     "languageId": "polyglot-notebook"
    }
   },
   "outputs": [
    {
     "name": "stdout",
     "output_type": "stream",
     "text": [
      "\n",
      "\u001b[32;1mCPU                    WS                     Handles                Threads                Network\u001b[0m\n",
      "\u001b[32;1m---                    --                     -------                -------                -------\u001b[0m\n",
      "msedge►17220           msedge►17220           msedge►17220           msedge►17220           code -…\n",
      "powershell_ise►10100   powershell_ise►10100   powershell_ise►10100   powershell_ise►10100   audiodg\n",
      "Grammarly.Desktop►7320 Grammarly.Desktop►7320 Grammarly.Desktop►7320 Grammarly.Desktop►7320 dwm\n",
      "Code - Insiders►2860   Code - Insiders►2860   Code - Insiders►2860   Code - Insiders►2860   window…\n",
      "msedge►9840            msedge►9840            msedge►9840            msedge►9840            msedge\n",
      "Code - Insiders►12740  Code - Insiders►12740  Code - Insiders►12740  Code - Insiders►12740  svchost\n",
      "msedge►10628           msedge►10628           msedge►10628           msedge►10628           wudfho…\n",
      "explorer►8092          explorer►8092          explorer►8092          explorer►8092          dllhost\n",
      "OneDrive►4220          OneDrive►4220          OneDrive►4220          OneDrive►4220          powers…\n",
      "WindowsTerminal►13280  WindowsTerminal►13280  WindowsTerminal►13280  WindowsTerminal►13280  logonui\n",
      "\n"
     ]
    }
   ],
   "source": [
    "$objArr = Get-Process | Select-Object @{Name='Process'; Expression={$_.ProcessName+'►'+$_.Id}}, CPU, ID, WS, HandleCount, Threads\n",
    "$nwAggregated = @{}\n",
    "\n",
    "for ($j = 0; $j -lt 3; $j++) {Start-Sleep -Seconds 3\n",
    "    Get-Process | ForEach-Object {$proc = $objArr | Where-Object ID -EQ $_.Id ; $proc.CPU += $_.CPU ; $proc.WS += $_.WS }\n",
    "\n",
    "    $nw = (Get-Counter '\\Process(*)\\IO Read Operations/sec').CounterSamples.Where({$_.InstanceName -ne \"_Total\" -and $_.InstanceName -ne \"Idle\"}) |% {$nwAggregated[$_.InstanceName] += $_.CookedValue}\n",
    "}\n",
    "\n",
    "$Network = $nwAggregated.GetEnumerator() | Sort-Object Value -Descending | Select-Object -First 10\n",
    "\n",
    "$harray = for ($j = 0; $j -lt 10; $j++) { $sortedObjArr = $objArr | Sort-Object CPU, WS, HandleCount, Threads -Descending\n",
    "\n",
    "    [PSCustomObject][ordered]@{\n",
    "        'CPU'          = $sortedObjArr[$j].Process\n",
    "        'WS'           = $sortedObjArr[$j].Process\n",
    "        'Handles'      = $sortedObjArr[$j].Process\n",
    "        'Threads'      = $sortedObjArr[$j].Process\n",
    "        'Network'      = $Network[$j].Name\n",
    "    }\n",
    "}\n",
    "$harray | Format-Table -AutoSize"
   ]
  }
 ],
 "metadata": {
  "language_info": {
   "name": "csharp"
  }
 },
 "nbformat": 4,
 "nbformat_minor": 2
}
