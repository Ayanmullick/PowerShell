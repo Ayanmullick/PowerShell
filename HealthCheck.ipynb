{
 "cells": [
  {
   "cell_type": "markdown",
   "metadata": {},
   "source": [
    "winget install 'Microsoft .NET SDK 7.0'  #Needed. Doesn't work on .Net 8\n",
    "### Health Check"
   ]
  },
  {
   "cell_type": "code",
   "execution_count": 1,
   "metadata": {
    "dotnet_interactive": {
     "language": "pwsh"
    },
    "polyglot_notebook": {
     "kernelName": "pwsh"
    },
    "vscode": {
     "languageId": "polyglot-notebook"
    }
   },
   "outputs": [
    {
     "data": {
      "text/plain": []
     },
     "metadata": {},
     "output_type": "display_data"
    },
    {
     "name": "stdout",
     "output_type": "stream",
     "text": [
      "\n",
      "Central Standard Time 12/2/2023 9:00:01 PM\n",
      "Boot                  Sat 12.2.23 10:36\n",
      "CpuUsage%             76\n",
      "RamUsage%             {51}\n",
      "C:%Free               {55}\n",
      "\n"
     ]
    }
   ],
   "source": [
    "[ordered]@{\"$((Get-TimeZone).Id)\" = Get-Date\n",
    "    'Boot'      = (Get-CimInstance win32_operatingsystem).lastbootuptime.ToString('ddd M.d.yy H:m')\n",
    "    'CpuUsage%' = (Get-CimInstance win32_processor | Measure-Object LoadPercentage -Average).Average\n",
    "    'RamUsage%' = {$os=Get-CimInstance win32_operatingsystem; [Math]::Ceiling(($os.TotalVisibleMemorySize-$os.FreePhysicalMemory)*100/$os.TotalVisibleMemorySize)}.Invoke()\n",
    "    'C:%Free'   = { $disk = Get-CimInstance Win32_LogicalDisk -Filter \"DeviceID='C:'\"; [Math]::Ceiling(($disk.FreeSpace / $disk.Size) * 100) }.Invoke()\n",
    "            } | ft -HideTableHeaders -AutoSize"
   ]
  },
  {
   "cell_type": "markdown",
   "metadata": {},
   "source": [
    "This shows which processes are consuming the most cpu, memory and network and have the most number of handles and threads currently on the system."
   ]
  },
  {
   "cell_type": "code",
   "execution_count": 13,
   "metadata": {
    "dotnet_interactive": {
     "language": "pwsh"
    },
    "polyglot_notebook": {
     "kernelName": "pwsh"
    },
    "vscode": {
     "languageId": "polyglot-notebook"
    }
   },
   "outputs": [
    {
     "name": "stdout",
     "output_type": "stream",
     "text": [
      "\n",
      "\u001b[32;1mCPU                    WS                      Handles                Threads                 Network\u001b[0m\n",
      "\u001b[32;1m---                    --                      -------                -------                 -----\u001b[0m\n",
      "msedge►7464             msedge►7464             System►4                System►4                windowsazureguestagent\n",
      "OneDrive►11916          Grammarly.Desktop►12308 msedge►7464             Memory Compression►2632 dwm\n",
      "Grammarly.Desktop►12308 SearchHost►6964         explorer►6532           SearchHost►6964         svchost \n",
      "Code - Insiders►5628    dwm►772                 lsass►904               explorer►6532           msedge \n",
      "Code - Insiders►3908    Code - Insiders►5628    MonitoringHost►4256     msedge►7464             msedge\n",
      "msedge►6124             msedge►6124             Grammarly.Desktop►12308 Code - Insiders►12832   msedge\n",
      "explorer►6532           MsMpEng►4004            SearchHost►6964         msedgewebview2►14164    msedge\n",
      "Code - Insiders►9460    msedge►9492             svchost►120             msedgewebview2►10256    msedge\n",
      "msedge►11484            explorer►6532           OneDrive►11916          svchost►1364            svchost\n",
      "Code - Insiders►6588    powershell_ise►7476     svchost►920             MonitoringHost►4256     msedge\n",
      "\n"
     ]
    }
   ],
   "source": [
    "$objArr = Get-Process | Select-Object @{Name='Process'; Expression={$_.ProcessName+'►'+$_.Id}}, CPU, ID, WS, HandleCount, Threads\n",
    "# Sort for each property separately\n",
    "$sortedByCPU = $objArr | Sort-Object CPU -Descending | Select-Object -First 10\n",
    "$sortedByWS = $objArr | Sort-Object WS -Descending | Select-Object -First 10\n",
    "$sortedByHandles = $objArr | Sort-Object HandleCount -Descending | Select-Object -First 10\n",
    "$sortedByThreads = $objArr | Sort-Object Threads -Descending | Select-Object -First 10\n",
    "\n",
    "$Network = (Get-Counter '\\Process(*)\\IO Read Operations/sec').CounterSamples.Where({$_.InstanceName -ne \"_Total\" -and $_.InstanceName -ne \"Idle\"})|\n",
    "                sort cookedvalue -Descending|Select -Property instancename -First 10\n",
    "\n",
    "$harray = for ($j = 0; $j -lt 10; $j++) {\n",
    "    [PSCustomObject][ordered]@{\n",
    "        'CPU'     = $sortedByCPU[$j].Process\n",
    "        'WS'      = $sortedByWS[$j].Process\n",
    "        'Handles' = $sortedByHandles[$j].Process\n",
    "        'Threads' = $sortedByThreads[$j].Process\n",
    "        'Network' = $Network[$j].InstanceName\n",
    "    }\n",
    "}\n",
    "$harray | Format-Table -AutoSize"
   ]
  }
 ],
 "metadata": {
  "language_info": {
   "name": "csharp"
  }
 },
 "nbformat": 4,
 "nbformat_minor": 2
}
