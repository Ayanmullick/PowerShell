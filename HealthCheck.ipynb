{
 "cells": [
  {
   "cell_type": "markdown",
   "metadata": {},
   "source": [
    "### Health Check"
   ]
  },
  {
   "cell_type": "code",
   "execution_count": 1,
   "metadata": {
    "dotnet_interactive": {
     "language": "pwsh"
    },
    "polyglot_notebook": {
     "kernelName": "pwsh"
    },
    "vscode": {
     "languageId": "polyglot-notebook"
    }
   },
   "outputs": [
    {
     "data": {
      "text/plain": []
     },
     "metadata": {},
     "output_type": "display_data"
    },
    {
     "name": "stdout",
     "output_type": "stream",
     "text": [
      "\n",
      "Central Standard Time 12/3/2023 2:53:11 PM\n",
      "Boot                  Sun 12.3.23 11:9\n",
      "CpuUsage%             79\n",
      "RamUsage%             {48}\n",
      "C:%Free               {55}\n",
      "\n"
     ]
    }
   ],
   "source": [
    "[ordered]@{\"$((Get-TimeZone).Id)\" = Get-Date\n",
    "    'Boot'      = (Get-CimInstance win32_operatingsystem).lastbootuptime.ToString('ddd M.d.yy H:m')\n",
    "    'CpuUsage%' = (Get-CimInstance win32_processor | Measure-Object LoadPercentage -Average).Average\n",
    "    'RamUsage%' = {$os=Get-CimInstance win32_operatingsystem; [Math]::Ceiling(($os.TotalVisibleMemorySize-$os.FreePhysicalMemory)*100/$os.TotalVisibleMemorySize)}.Invoke()\n",
    "    'C:%Free'   = { $disk = Get-CimInstance Win32_LogicalDisk -Filter \"DeviceID='C:'\"; [Math]::Ceiling(($disk.FreeSpace / $disk.Size) * 100) }.Invoke()\n",
    "            } | ft -HideTableHeaders -AutoSize"
   ]
  },
  {
   "cell_type": "markdown",
   "metadata": {},
   "source": [
    "This shows which processes are consuming the most cpu, memory and network and have the most number of handles and threads currently on the system."
   ]
  },
  {
   "cell_type": "code",
   "execution_count": 5,
   "metadata": {
    "dotnet_interactive": {
     "language": "pwsh"
    },
    "polyglot_notebook": {
     "kernelName": "pwsh"
    },
    "vscode": {
     "languageId": "polyglot-notebook"
    }
   },
   "outputs": [
    {
     "name": "stdout",
     "output_type": "stream",
     "text": [
      "\n",
      "\u001b[32;1mCPU                     WS                      Handles                 Threads                 Network           DiskIOPS\u001b[0m\n",
      "\u001b[32;1m---                     --                      -------                 -------                 -------           --------\u001b[0m\n",
      "msedge►13512            Memory Compression►2632 OneDrive►11916          System►4                code              code\n",
      "msedge►6124             dwm►772                 System►4                Memory Compression►2632 code              msedge\n",
      "OneDrive►11916          msedge►7464             explorer►6532           explorer►6532           code              svchost\n",
      "msedge►7464             WindowsTerminal►9304    msedge►7464             msedge►7464             dwm               powershell_ise\n",
      "Grammarly.Desktop►12308 Code►5344               lsass►904               SearchHost►6964         msedge            dotnet\n",
      "Code►5344               pwsh►9668               Grammarly.Desktop►12308 Code►11620              grammarly.desktop wslservice\n",
      "Code►16052              pwsh►16184              MonitoringHost►4256     msedgewebview2►14164    code              registry\n",
      "powershell_ise►7476     Code►16052              SearchHost►6964         msedgewebview2►10256    svchost           powershell\n",
      "Code►8956               explorer►6532           Code►11620              svchost►1364            dotnet            system\n",
      "explorer►6532           Grammarly.Desktop►12308 svchost►120             OneDrive►11916          svchost           memory compres…\n",
      "\n"
     ]
    }
   ],
   "source": [
    "$Host.UI.RawUI.BufferSize = New-Object Management.Automation.Host.Size(130, $Host.UI.RawUI.BufferSize.Height)  #v2: One line equivalent\n",
    "\n",
    "$objArr = Get-Process | Select-Object @{Name='Process'; Expression={$_.ProcessName+'►'+$_.Id}}, CPU, ID, WS, HandleCount, Threads\n",
    "$Network = (Get-Counter '\\Process(*)\\IO Read Operations/sec').CounterSamples.Where({$_.InstanceName -ne \"_Total\" -and $_.InstanceName -ne \"Idle\"}) | sort cookedvalue -Descending | Select -Property instancename -First 10\n",
    "\n",
    "# Get IO Read and Write Operations\n",
    "$ioOps = Get-Counter '\\Process(*)\\IO Read Operations/sec', '\\Process(*)\\IO Write Operations/sec' |Select -ExpandProperty CounterSamples | Where-Object { $_.InstanceName -ne \"_Total\" -and $_.InstanceName -ne \"Idle\" }\n",
    "$combinedIO = @{}\n",
    "foreach ($op in $ioOps) {$combinedIO[$op.InstanceName] += $op.CookedValue}  # Combine and sum the IO operations for each process\n",
    "$DiskIOPS = $combinedIO.GetEnumerator() | Sort-Object Value -Descending | Select-Object -First 10 -ExpandProperty Name\n",
    "\n",
    "$sortCriteria = @('CPU', 'WS', 'HandleCount', 'Threads')   # Using a loop to sort for each property\n",
    "$sortedResults = @{}\n",
    "foreach ($criteria in $sortCriteria) {$sortedResults[$criteria] = $objArr | Sort-Object $criteria -Descending | Select-Object -First 10}\n",
    "\n",
    "$harray = for ($j = 0; $j -lt 10; $j++) {  # Creating the custom object array\n",
    "    [PSCustomObject][ordered]@{\n",
    "        'CPU'     = $sortedResults['CPU'][$j].Process \n",
    "        'WS'      = $sortedResults['WS'][$j].Process \n",
    "        'Handles' = $sortedResults['HandleCount'][$j].Process \n",
    "        'Threads' = $sortedResults['Threads'][$j].Process\n",
    "        'Network' = $Network[$j].InstanceName\n",
    "        'DiskIOPS' = $DiskIOPS[$j]\n",
    "    }\n",
    "}\n",
    "$harray | Format-Table -AutoSize"
   ]
  }
 ],
 "metadata": {
  "kernelspec": {
   "display_name": ".NET (PowerShell)",
   "language": "PowerShell",
   "name": ".net-pwsh"
  },
  "language_info": {
   "name": "pwsh"
  },
  "polyglot_notebook": {
   "kernelInfo": {
    "defaultKernelName": "pwsh",
    "items": [
     {
      "aliases": [],
      "languageName": "pwsh",
      "name": "pwsh"
     }
    ]
   }
  }
 },
 "nbformat": 4,
 "nbformat_minor": 2
}
