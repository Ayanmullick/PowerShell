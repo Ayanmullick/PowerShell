{
 "cells": [
  {
   "cell_type": "markdown",
   "metadata": {},
   "source": [
    "### Health Check"
   ]
  },
  {
   "cell_type": "code",
   "execution_count": 1,
   "metadata": {
    "dotnet_interactive": {
     "language": "pwsh"
    },
    "polyglot_notebook": {
     "kernelName": "pwsh"
    },
    "vscode": {
     "languageId": "polyglot-notebook"
    }
   },
   "outputs": [
    {
     "data": {
      "text/plain": []
     },
     "metadata": {},
     "output_type": "display_data"
    },
    {
     "name": "stdout",
     "output_type": "stream",
     "text": [
      "\n",
      "Central Standard Time 12/3/2023 2:53:11 PM\n",
      "Boot                  Sun 12.3.23 11:9\n",
      "CpuUsage%             79\n",
      "RamUsage%             {48}\n",
      "C:%Free               {55}\n",
      "\n"
     ]
    }
   ],
   "source": [
    "[ordered]@{\"$((Get-TimeZone).Id)\" = Get-Date\n",
    "    'Boot'      = (Get-CimInstance win32_operatingsystem).lastbootuptime.ToString('ddd M.d.yy H:m')\n",
    "    'CpuUsage%' = (Get-CimInstance win32_processor | Measure-Object LoadPercentage -Average).Average\n",
    "    'RamUsage%' = {$os=Get-CimInstance win32_operatingsystem; [Math]::Ceiling(($os.TotalVisibleMemorySize-$os.FreePhysicalMemory)*100/$os.TotalVisibleMemorySize)}.Invoke()\n",
    "    'C:%Free'   = { $disk = Get-CimInstance Win32_LogicalDisk -Filter \"DeviceID='C:'\"; [Math]::Ceiling(($disk.FreeSpace / $disk.Size) * 100) }.Invoke()\n",
    "            } | ft -HideTableHeaders -AutoSize"
   ]
  },
  {
   "cell_type": "markdown",
   "metadata": {},
   "source": [
    "This shows which processes are consuming the most cpu, memory and network and have the most number of handles and threads currently on the system."
   ]
  },
  {
   "cell_type": "code",
   "execution_count": 3,
   "metadata": {
    "dotnet_interactive": {
     "language": "pwsh"
    },
    "polyglot_notebook": {
     "kernelName": "pwsh"
    },
    "vscode": {
     "languageId": "polyglot-notebook"
    }
   },
   "outputs": [
    {
     "name": "stdout",
     "output_type": "stream",
     "text": [
      "\n",
      "\u001b[32;1mCPU                     WS                      Handles                 Threads                 Network\u001b[0m\n",
      "\u001b[32;1m---                     --                      -------                 -------                 -------\u001b[0m\n",
      "msedge►13512            msedge►7464             OneDrive►11916          System►4                code\n",
      "OneDrive►11916          dotnet►5428             System►4                Memory Compression►2632 code\n",
      "msedge►6124             Code►5344               explorer►6532           explorer►6532           code\n",
      "Code►5344               dwm►772                 msedge►7464             msedge►7464             code\n",
      "msedge►7464             Grammarly.Desktop►12308 lsass►904               SearchHost►6964         svchost\n",
      "Code►16052              Memory Compression►2632 Grammarly.Desktop►12308 Code►11620              dwm\n",
      "Grammarly.Desktop►12308 SearchHost►6964         MonitoringHost►4256     msedgewebview2►14164    grammarly.desktop\n",
      "Code►11620              svchost►1364            SearchHost►6964         msedgewebview2►10256    code\n",
      "Code►8956               powershell_ise►7476     svchost►120             svchost►1364            explorer\n",
      "msedge►9736             msedge►6124             Code►11620              dotnet►5428             textinputhost\n",
      "\n"
     ]
    }
   ],
   "source": [
    "#$Host.UI.RawUI.BufferSize = New-Object Management.Automation.Host.Size(150, $Host.UI.RawUI.BufferSize.Height)  #v2: One line equivalent\n",
    "\n",
    "$objArr = Get-Process | Select-Object @{Name='Process'; Expression={$_.ProcessName+'►'+$_.Id}}, CPU, ID, WS, HandleCount, Threads\n",
    "# Sort for each property separately\n",
    "$sortedByCPU = $objArr | Sort-Object CPU -Descending | Select-Object -First 10\n",
    "$sortedByWS = $objArr | Sort-Object WS -Descending | Select-Object -First 10\n",
    "$sortedByHandles = $objArr | Sort-Object HandleCount -Descending | Select-Object -First 10\n",
    "$sortedByThreads = $objArr | Sort-Object Threads -Descending | Select-Object -First 10\n",
    "\n",
    "$Network = (Get-Counter '\\Process(*)\\IO Read Operations/sec').CounterSamples.Where({$_.InstanceName -ne \"_Total\" -and $_.InstanceName -ne \"Idle\"})|\n",
    "                sort cookedvalue -Descending|Select -Property instancename -First 10\n",
    "\n",
    "$harray = for ($j = 0; $j -lt 10; $j++) {\n",
    "    [PSCustomObject][ordered]@{\n",
    "        'CPU'     = $sortedByCPU[$j].Process\n",
    "        'WS'      = $sortedByWS[$j].Process\n",
    "        'Handles' = $sortedByHandles[$j].Process\n",
    "        'Threads' = $sortedByThreads[$j].Process\n",
    "        'Network' = $Network[$j].InstanceName\n",
    "    }\n",
    "}\n",
    "$harray | Format-Table -AutoSize"
   ]
  }
 ],
 "metadata": {
  "kernelspec": {
   "display_name": ".NET (PowerShell)",
   "language": "PowerShell",
   "name": ".net-pwsh"
  },
  "language_info": {
   "name": "pwsh"
  },
  "polyglot_notebook": {
   "kernelInfo": {
    "defaultKernelName": "pwsh",
    "items": [
     {
      "aliases": [],
      "languageName": "pwsh",
      "name": "pwsh"
     }
    ]
   }
  }
 },
 "nbformat": 4,
 "nbformat_minor": 2
}
