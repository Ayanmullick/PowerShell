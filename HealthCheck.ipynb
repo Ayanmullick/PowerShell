{
 "cells": [
  {
   "cell_type": "markdown",
   "metadata": {},
   "source": [
    "winget install 'Microsoft .NET SDK 7.0'  #Needed. Doesn't work on .Net 8\n",
    "### Health Check"
   ]
  },
  {
   "cell_type": "code",
   "execution_count": 1,
   "metadata": {
    "dotnet_interactive": {
     "language": "pwsh"
    },
    "polyglot_notebook": {
     "kernelName": "pwsh"
    },
    "vscode": {
     "languageId": "polyglot-notebook"
    }
   },
   "outputs": [
    {
     "data": {
      "text/plain": []
     },
     "metadata": {},
     "output_type": "display_data"
    },
    {
     "name": "stdout",
     "output_type": "stream",
     "text": [
      "\n",
      "Central Standard Time 12/2/2023 7:53:34 PM\n",
      "Boot                  Sat 12.2.23 10:36\n",
      "CpuUsage%             40\n",
      "RamUsage%             52\n",
      "C:%Free               54\n",
      "\n"
     ]
    }
   ],
   "source": [
    "[ordered]@{ \"$((Get-TimeZone).Id)\" = Get-Date\n",
    "'Boot' = ([DateTime]$(Get-CimInstance -ClassName win32_operatingsystem).lastbootuptime).tostring('ddd M.d.yy H:m')\n",
    "'CpuUsage%' = (Get-CimInstance win32_processor | Measure-Object -Property LoadPercentage -Average).Average\n",
    "'RamUsage%' = (Get-CimInstance -Class win32_operatingsystem | Select-Object @{Name = 'Mem'; Expression = {[Math]::Ceiling((($_.TotalVisibleMemorySize - $_.FreePhysicalMemory) * 100) / $_.TotalVisibleMemorySize)}}).Mem\n",
    "'C:%Free' = (Get-CimInstance Win32_LogicalDisk -Filter \"DeviceID='C:'\" | Select-Object @{Name = 'Free'; Expression = {[Math]::Ceiling(($_.FreeSpace / $_.Size) * 100)}}).Free} |\n",
    "            ft -HideTableHeaders -AutoSize"
   ]
  }
 ],
 "metadata": {
  "language_info": {
   "name": "csharp"
  }
 },
 "nbformat": 4,
 "nbformat_minor": 2
}
