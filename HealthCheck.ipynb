{
 "cells": [
  {
   "cell_type": "markdown",
   "metadata": {},
   "source": [
    "### Health Check"
   ]
  },
  {
   "cell_type": "code",
   "execution_count": 10,
   "metadata": {
    "dotnet_interactive": {
     "language": "pwsh"
    },
    "polyglot_notebook": {
     "kernelName": "pwsh"
    },
    "vscode": {
     "languageId": "polyglot-notebook"
    }
   },
   "outputs": [
    {
     "data": {
      "text/plain": []
     },
     "metadata": {},
     "output_type": "display_data"
    },
    {
     "name": "stdout",
     "output_type": "stream",
     "text": [
      "\n",
      "OsLastBootUpTime               12/4/2023 9:24:25 AM\n",
      "BiosReleaseDate                7/11/2023 7:00:00 PM\n",
      "TimeZone                       (UTC-06:00) Central Time (US & Canada)\n",
      "WindowsInstallDateFromRegistry 3/7/2023 12:48:05 AM\n",
      "OsName                         Microsoft Windows 11 Enterprise\n",
      "OsOperatingSystemSKU           EnterpriseEdition\n",
      "OsArchitecture                 ARM 64-bit Processor\n",
      "WindowsVersion                 2009\n",
      "WindowsBuildLabEx              22621.1.arm64fre.ni_release.220506-1250\n",
      "OsMuiLanguages                 {en-US}\n",
      "BiosCaption                    Hyper-V UEFI Release v4.1\n",
      "CsBootupState                  Normal boot\n",
      "CsDNSHostName                  W11ARM\n",
      "CsDomain                       WORKGROUP\n",
      "CsProcessors                   {Ampere(R) Altra(R) Processor}\n",
      "OsSystemDirectory              C:\\Windows\\system32\n",
      "TimeZone                       Central Standard Time\n",
      "System Time                    12/4/2023 10:07:59 PM\n",
      "PhysicalHost                   CHI231053017064\n",
      "NW Adapters                    Microsoft Hyper-V Network Adapter, Mellanox ConnectX-5 Virtual Adap…\n",
      "IPAddress                      192.168.0.5, fe80::7c64:a1a8:cca3:8cd0, \n",
      "Cpu Usage %                    45\n",
      "Mem Usage %                    $freeGb = $Info.OsFreePhysicalMemory / 1MB; $totalGb = $Info.OsTota…\n",
      "C: Usage %                     $drive = Get-PSDrive C; $usedGb = [Math]::Round(($drive.Used / 1GB)…\n",
      "\n"
     ]
    }
   ],
   "source": [
    "$Info             = Get-ComputerInfo \n",
    "$InfoProp         = $Info | Select-Object -Property OsLastBootUpTime,BiosReleaseDate,TimeZone,WindowsInstallDateFromRegistry,\n",
    "             OsName,OsOperatingSystemSKU,OSArchitecture,WindowsVersion,WindowsBuildLabEx,OsMuiLanguages,BiosCaption,CsBootupState,CsDNSHostName,CsDomain,CsProcessors,OsSystemDirectory\n",
    "\n",
    "$additionalDetails= [ordered]@{                                             #Calculating additional system details\n",
    "    'TimeZone'    = (Get-TimeZone).Id\n",
    "    'System Time' = Get-Date\n",
    "    'PhysicalHost'= (Get-Item \"HKLM:\\SOFTWARE\\Microsoft\\Virtual Machine\\Guest\\Parameters\").GetValue(\"PhysicalHostName\")\n",
    "    'NW Adapters' = $Info.CsNetworkAdapters.Description -join ', '\n",
    "    'IPAddress'   = $Info.CsNetworkAdapters.IPAddresses -join ', '\n",
    "\n",
    "    'Cpu Usage %' = (Get-CimInstance win32_processor | Measure-Object LoadPercentage -Average).Average\n",
    "    'Mem Usage %' = {$freeGb = $Info.OsFreePhysicalMemory / 1MB; $totalGb = $Info.OsTotalVisibleMemorySize / 1MB; \"{0:N2}Gb of {1:N2}Gb = {2}%\" -f ($totalGb - $freeGb), $totalGb, (100 - [Math]::Round($freeGb / $totalGb * 100))}\n",
    "    'C: Usage %'  = {$drive = Get-PSDrive C; $usedGb = [Math]::Round(($drive.Used / 1GB)); $totalGb = [Math]::Round(($drive.Free / 1GB) + $usedGb); \"{0}Gb of {1}Gb = {2}%\" -f $usedGb, $totalGb, [Math]::Round(($usedGb / $totalGb) * 100)}\n",
    "    }\n",
    "                                                                            #Converting properties to key-value pairs\n",
    "$InfoList         = $InfoProp.PSObject.Properties | ForEach-Object { @{ $_.Name = $_.Value } }\n",
    "$combinedData     = $InfoList + $additionalDetails                          # Combining both sets of data into one list\n",
    "$combinedData | Format-Table -HideTableHeaders -AutoSize                    # Displaying the combined list"
   ]
  },
  {
   "cell_type": "markdown",
   "metadata": {},
   "source": [
    "This shows which processes are consuming the most cpu, memory, network and disk and have the most number of handles and threads currently on the system."
   ]
  },
  {
   "cell_type": "code",
   "execution_count": 10,
   "metadata": {
    "dotnet_interactive": {
     "language": "pwsh"
    },
    "polyglot_notebook": {
     "kernelName": "pwsh"
    },
    "vscode": {
     "languageId": "polyglot-notebook"
    }
   },
   "outputs": [
    {
     "name": "stdout",
     "output_type": "stream",
     "text": [
      "\n",
      "\u001b[32;1mCPU                    WS                      Handle                 Thread                  Net               Disk\u001b[0m\n",
      "\u001b[32;1m---                    --                      ------                 ------                  ---               ----\u001b[0m\n",
      "msedge►9832            Memory Compression►2744 System►4               System►4                code              code\n",
      "msedge►8864            dwm►2276                explorer►5572          Memory Compression►2744 code              msedge\n",
      "Code►13792             msedge►8864             OneDrive►11396         explorer►5572           registry          dotnet\n",
      "Code►4200              Code►4200               msedge►8864            SearchHost►7748         code              dwm\n",
      "msedge►8040            msedge►8040             lsass►900              msedge►8864             code              svchost\n",
      "OneDrive►11396         Grammarly.Desktop►5228  Grammarly.Desktop►5228 Code►12224              code              healthservice\n",
      "Grammarly.Desktop►5228 pwsh►3740               MonitoringHost►8736    msedgewebview2►10872    code              widgetservice\n",
      "explorer►5572          pwsh►1040               SearchHost►7748        msedgewebview2►11908    grammarly.desktop powershell\n",
      "powershell_ise►9084    explorer►5572           svchost►116            Grammarly.Desktop►5228  dwm               csrss\n",
      "msedge►10284           svchost►1400            Code►12224             svchost►1400            explorer          windowstermin…\n",
      "\n"
     ]
    }
   ],
   "source": [
    "#$Host.UI.RawUI.BufferSize = New-Object Management.Automation.Host.Size(127, $Host.UI.RawUI.BufferSize.Height)  #v2: One line equivalent\n",
    "\n",
    "$objArr         = Get-Process|Select @{Name='Process'; Expression={$_.ProcessName+'►'+$_.Id}}, CPU, ID, WS, HandleCount, Threads\n",
    "\n",
    "$exclude        = { $_.InstanceName -ne \"_Total\" -and $_.InstanceName -ne \"Idle\" }\n",
    "$Network        = ((Get-Counter '\\Process(*)\\IO Data Bytes/sec').CounterSamples.Where($exclude)|Sort cookedvalue -Descending -Top 10).instancename\n",
    "\n",
    "$combinedIO     = @{}                                                     # Get IO Read and Write Operations\n",
    "$ioOps          = (Get-Counter '\\Process(*)\\IO Read Operations/sec', '\\Process(*)\\IO Write Operations/sec').CounterSamples.Where($exclude)\n",
    "foreach ($op in $ioOps) {$combinedIO[$op.InstanceName] += $op.CookedValue}# Combine and sum the IO operations for each process\n",
    "$Disk           = ($combinedIO.GetEnumerator() | Sort Value -Descending -Top 10).Name\n",
    "\n",
    "$sortCriteria   = @('CPU', 'WS', 'HandleCount', 'Threads')                # Using a loop to sort for each property\n",
    "$sortedResults  = @{}\n",
    "foreach ($criteria in $sortCriteria) {$sortedResults[$criteria] = $objArr | Sort-Object $criteria -Descending -Top 10}\n",
    "\n",
    "$harray         = for ($j = 0; $j -lt 10; $j++) {                         # Creating the custom object array\n",
    "    [PSCustomObject][ordered]@{\n",
    "        'CPU'   = $sortedResults['CPU'][$j].Process \n",
    "        'WS'    = $sortedResults['WS'][$j].Process \n",
    "        'Handle'= $sortedResults['HandleCount'][$j].Process \n",
    "        'Thread'= $sortedResults['Threads'][$j].Process\n",
    "        'Net'   = $Network[$j]\n",
    "        'Disk'  = $Disk[$j]\n",
    "    }\n",
    "}\n",
    "$harray | Format-Table -AutoSize"
   ]
  }
 ],
 "metadata": {
  "kernelspec": {
   "display_name": ".NET (PowerShell)",
   "language": "PowerShell",
   "name": ".net-pwsh"
  },
  "language_info": {
   "name": "pwsh"
  },
  "polyglot_notebook": {
   "kernelInfo": {
    "defaultKernelName": "pwsh",
    "items": [
     {
      "aliases": [],
      "languageName": "pwsh",
      "name": "pwsh"
     }
    ]
   }
  }
 },
 "nbformat": 4,
 "nbformat_minor": 2
}
