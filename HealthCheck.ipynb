{
 "cells": [
  {
   "cell_type": "markdown",
   "metadata": {},
   "source": [
    "winget install 'Microsoft .NET SDK 7.0'  #Needed. Doesn't work on .Net 8\n",
    "### Health Check"
   ]
  },
  {
   "cell_type": "code",
   "execution_count": 1,
   "metadata": {
    "dotnet_interactive": {
     "language": "pwsh"
    },
    "polyglot_notebook": {
     "kernelName": "pwsh"
    },
    "vscode": {
     "languageId": "polyglot-notebook"
    }
   },
   "outputs": [
    {
     "data": {
      "text/plain": []
     },
     "metadata": {},
     "output_type": "display_data"
    },
    {
     "name": "stdout",
     "output_type": "stream",
     "text": [
      "\n",
      "Central Standard Time 12/2/2023 9:00:01 PM\n",
      "Boot                  Sat 12.2.23 10:36\n",
      "CpuUsage%             76\n",
      "RamUsage%             {51}\n",
      "C:%Free               {55}\n",
      "\n"
     ]
    }
   ],
   "source": [
    "[ordered]@{\"$((Get-TimeZone).Id)\" = Get-Date\n",
    "    'Boot'      = (Get-CimInstance win32_operatingsystem).lastbootuptime.ToString('ddd M.d.yy H:m')\n",
    "    'CpuUsage%' = (Get-CimInstance win32_processor | Measure-Object LoadPercentage -Average).Average\n",
    "    'RamUsage%' = {$os=Get-CimInstance win32_operatingsystem; [Math]::Ceiling(($os.TotalVisibleMemorySize-$os.FreePhysicalMemory)*100/$os.TotalVisibleMemorySize)}.Invoke()\n",
    "    'C:%Free'   = { $disk = Get-CimInstance Win32_LogicalDisk -Filter \"DeviceID='C:'\"; [Math]::Ceiling(($disk.FreeSpace / $disk.Size) * 100) }.Invoke()\n",
    "            } | ft -HideTableHeaders -AutoSize"
   ]
  },
  {
   "cell_type": "markdown",
   "metadata": {},
   "source": [
    "This shows which processes are consuming the most cpu, memory and network and have the most number of handles and threads currently on the system."
   ]
  },
  {
   "cell_type": "code",
   "execution_count": 11,
   "metadata": {
    "dotnet_interactive": {
     "language": "pwsh"
    },
    "polyglot_notebook": {
     "kernelName": "pwsh"
    },
    "vscode": {
     "languageId": "polyglot-notebook"
    }
   },
   "outputs": [
    {
     "name": "stdout",
     "output_type": "stream",
     "text": [
      "\n",
      "\u001b[32;1mCPU                    WS                      Handles                Threads                 Netwo\u001b[0m\n",
      "\u001b[32;1m                                                                                              rk\u001b[0m\n",
      "\u001b[32;1m---                    --                      -------                -------                 -----\u001b[0m\n",
      "msedge►17220           Memory Compression►2592 System►4               System►4                code…\n",
      "powershell_ise►10100   Code - Insiders►2860    OneDrive►4220          Memory Compression►2592 code…\n",
      "Grammarly.Desktop►7320 msedge►9840             explorer►8092          explorer►8092           audi…\n",
      "Code - Insiders►2860   dwm►5200                msedge►9840            msedge►9840             code…\n",
      "msedge►9840            pwsh►4464               lsass►908              SearchHost►12324        dwm\n",
      "Code - Insiders►12740  Grammarly.Desktop►7320  Grammarly.Desktop►7320 Code - Insiders►16136   code…\n",
      "OneDrive►4220          powershell_ise►10100    MonitoringHost►6568    msedgewebview2►3268     msed…\n",
      "msedge►10628           explorer►8092           SearchHost►12324       msedgewebview2►3352     msed…\n",
      "explorer►8092          msedge►17220            TextInputHost►11680    Grammarly.Desktop►7320  code…\n",
      "WindowsTerminal►13280  SearchHost►12324        svchost►124            svchost►1368            msed…\n",
      "\n"
     ]
    }
   ],
   "source": [
    "$objArr = Get-Process | Select-Object @{Name='Process'; Expression={$_.ProcessName+'►'+$_.Id}}, CPU, ID, WS, HandleCount, Threads\n",
    "\n",
    "$Network = (Get-Counter '\\Process(*)\\IO Read Operations/sec').CounterSamples.Where({$_.InstanceName -ne \"_Total\" -and $_.InstanceName -ne \"Idle\"})|sort cookedvalue -Descending|Select -Property instancename -First 10\n",
    "\n",
    "# Sort for each property separately\n",
    "$sortedByCPU = $objArr | Sort-Object CPU -Descending | Select-Object -First 10\n",
    "$sortedByWS = $objArr | Sort-Object WS -Descending | Select-Object -First 10\n",
    "$sortedByHandles = $objArr | Sort-Object HandleCount -Descending | Select-Object -First 10\n",
    "$sortedByThreads = $objArr | Sort-Object Threads -Descending | Select-Object -First 10\n",
    "\n",
    "$harray = for ($j = 0; $j -lt 10; $j++) {\n",
    "    [PSCustomObject][ordered]@{\n",
    "        'CPU'     = $sortedByCPU[$j].Process\n",
    "        'WS'      = $sortedByWS[$j].Process\n",
    "        'Handles' = $sortedByHandles[$j].Process\n",
    "        'Threads' = $sortedByThreads[$j].Process\n",
    "        'Network' = $Network[$j].InstanceName\n",
    "    }\n",
    "}\n",
    "$harray | Format-Table -AutoSize"
   ]
  }
 ],
 "metadata": {
  "language_info": {
   "name": "csharp"
  }
 },
 "nbformat": 4,
 "nbformat_minor": 2
}
