{
 "cells": [
  {
   "cell_type": "markdown",
   "metadata": {},
   "source": [
    "### Health Check"
   ]
  },
  {
   "cell_type": "code",
   "execution_count": 3,
   "metadata": {
    "dotnet_interactive": {
     "language": "pwsh"
    },
    "polyglot_notebook": {
     "kernelName": "pwsh"
    },
    "vscode": {
     "languageId": "polyglot-notebook"
    }
   },
   "outputs": [
    {
     "data": {
      "text/plain": []
     },
     "metadata": {},
     "output_type": "display_data"
    },
    {
     "name": "stdout",
     "output_type": "stream",
     "text": [
      "\n",
      "OsLastBootUpTime               12/3/2023 11:09:56 AM\n",
      "BiosReleaseDate                7/11/2023 7:00:00 PM\n",
      "TimeZone                       (UTC-06:00) Central Time (US & Canada)\n",
      "WindowsInstallDateFromRegistry 3/7/2023 12:48:05 AM\n",
      "OsName                         Microsoft Windows 11 Enterprise\n",
      "OsOperatingSystemSKU           EnterpriseEdition\n",
      "OsArchitecture                 ARM 64-bit Processor\n",
      "WindowsVersion                 2009\n",
      "WindowsBuildLabEx              22621.1.arm64fre.ni_release.220506-1250\n",
      "OsMuiLanguages                 {en-US}\n",
      "BiosCaption                    Hyper-V UEFI Release v4.1\n",
      "CsBootupState                  Normal boot\n",
      "CsDNSHostName                  W11ARM\n",
      "CsDomain                       WORKGROUP\n",
      "CsProcessors                   {Ampere(R) Altra(R) Processor}\n",
      "OsSystemDirectory              C:\\Windows\\system32\n",
      "TimeZone                       Central Standard Time\n",
      "Current System Time            12/3/2023 8:45:22 PM\n",
      "PhysicalHostName               CHI231053017064\n",
      "NW Adapters                    {Microsoft Hyper-V Network Adapter, Mellanox ConnectX-5 Virtual Ada…\n",
      "IPAddress                      {192.168.0.5, fe80::7c64:a1a8:cca3:8cd0, }\n",
      "Cpu Usage Percentage           82\n",
      "Memory Usage Percentage        {53}\n",
      "C Drive Percentage Free        {55}\n",
      "\n"
     ]
    }
   ],
   "source": [
    "$Info = Get-ComputerInfo \n",
    "\n",
    "$computerInfoProperties = $Info | Select-Object -Property OsLastBootUpTime,BiosReleaseDate,TimeZone,WindowsInstallDateFromRegistry,\n",
    "             OsName,OsOperatingSystemSKU,OSArchitecture,WindowsVersion,WindowsBuildLabEx,OsMuiLanguages,BiosCaption,CsBootupState,CsDNSHostName,CsDomain,CsProcessors,OsSystemDirectory\n",
    "\n",
    "$additionalDetails = [ordered]@{                                                                              # Calculating additional system details\n",
    "    'TimeZone' = (Get-TimeZone).Id\n",
    "    'Current System Time' = Get-Date\n",
    "    'PhysicalHostName' = (Get-Item \"HKLM:\\SOFTWARE\\Microsoft\\Virtual Machine\\Guest\\Parameters\").GetValue(\"PhysicalHostName\")\n",
    "    'NW Adapters' = {$Info.CsNetworkAdapters.Description -join ', '}.Invoke()\n",
    "    'IPAddress' = {$Info.CsNetworkAdapters.IPAddresses -join ', '}.Invoke()\n",
    "\n",
    "    'Cpu Usage Percentage' = (Get-CimInstance win32_processor | Measure-Object LoadPercentage -Average).Average\n",
    "    'Memory Usage Percentage' = { [Math]::Ceiling(($Info.OsTotalVisibleMemorySize - $Info.OsFreePhysicalMemory) * 100 / $Info.OsTotalVisibleMemorySize) }.Invoke()\n",
    "    'C Drive Percentage Free' = { $disk = Get-CimInstance Win32_LogicalDisk -Filter \"DeviceID='C:'\"; [Math]::Ceiling(($disk.FreeSpace / $disk.Size) * 100) }.Invoke()\n",
    "}\n",
    "\n",
    "$computerInfoList = $computerInfoProperties.PSObject.Properties | ForEach-Object { @{ $_.Name = $_.Value } }  # Converting properties to key-value pairs\n",
    "$combinedData = $computerInfoList + $additionalDetails                                                        # Combining both sets of data into one list\n",
    "$combinedData | Format-Table -HideTableHeaders -AutoSize                                                      # Displaying the combined list"
   ]
  },
  {
   "cell_type": "markdown",
   "metadata": {},
   "source": [
    "This shows which processes are consuming the most cpu, memory, network and disk and have the most number of handles and threads currently on the system."
   ]
  },
  {
   "cell_type": "code",
   "execution_count": 3,
   "metadata": {
    "dotnet_interactive": {
     "language": "pwsh"
    },
    "polyglot_notebook": {
     "kernelName": "pwsh"
    },
    "vscode": {
     "languageId": "polyglot-notebook"
    }
   },
   "outputs": [
    {
     "name": "stdout",
     "output_type": "stream",
     "text": [
      "\n",
      "\u001b[32;1mCPU                    WS                      Handles                Threads                 Network       DiskIOPS\u001b[0m\n",
      "\u001b[32;1m---                    --                      -------                -------                 -------       --------\u001b[0m\n",
      "msedge►9832            Memory Compression►2744 System►4               System►4                code          code\n",
      "msedge►8864            msedge►8864             explorer►5572          Memory Compression►2744 code          svchost\n",
      "msedge►8040            msedge►8040             msedge►8864            explorer►5572           code          healthservice\n",
      "Code►13792             Code►4200               lsass►900              SearchHost►7748         code          msedge\n",
      "explorer►5572          dwm►2276                Grammarly.Desktop►5228 msedge►8864             code          widgetservice\n",
      "Grammarly.Desktop►5228 explorer►5572           SearchHost►7748        Code►12224              healthservice powershell\n",
      "powershell_ise►9084    Code►13792              MonitoringHost►8736    msedgewebview2►11908    code          csrss\n",
      "Code►4200              svchost►1400            svchost►116            msedgewebview2►10872    dwm           wslservice\n",
      "msedgewebview2►6716    SearchHost►7748         Code►12224             svchost►1400            svchost       system\n",
      "Code►2640              msedge►10344            OneDrive►11396         dotnet►12996            svchost       fontdrvhost\n",
      "\n"
     ]
    }
   ],
   "source": [
    "#$Host.UI.RawUI.BufferSize = New-Object Management.Automation.Host.Size(127, $Host.UI.RawUI.BufferSize.Height)  #v2: One line equivalent\n",
    "\n",
    "$objArr = Get-Process | Select @{Name='Process'; Expression={$_.ProcessName+'►'+$_.Id}}, CPU, ID, WS, HandleCount, Threads\n",
    "$Network = ((Get-Counter '\\Process(*)\\IO Data Bytes/sec').CounterSamples.Where({$_.InstanceName -ne \"_Total\" -and $_.InstanceName -ne \"Idle\"}) | Sort cookedvalue -Descending -Top 10).instancename\n",
    "\n",
    "$combinedIO = @{}                                                           # Get IO Read and Write Operations\n",
    "$ioOps = (Get-Counter '\\Process(*)\\IO Read Operations/sec', '\\Process(*)\\IO Write Operations/sec').CounterSamples.Where({ $_.InstanceName -ne \"_Total\" -and $_.InstanceName -ne \"Idle\" })\n",
    "foreach ($op in $ioOps) {$combinedIO[$op.InstanceName] += $op.CookedValue}  # Combine and sum the IO operations for each process\n",
    "$DiskIOPS = ($combinedIO.GetEnumerator() | Sort-Object Value -Descending -Top 10).Name\n",
    "\n",
    "$sortCriteria = @('CPU', 'WS', 'HandleCount', 'Threads')                    # Using a loop to sort for each property\n",
    "$sortedResults = @{}\n",
    "foreach ($criteria in $sortCriteria) {$sortedResults[$criteria] = $objArr | Sort-Object $criteria -Descending -Top 10}\n",
    "\n",
    "$harray = for ($j = 0; $j -lt 10; $j++) {                                   # Creating the custom object array\n",
    "    [PSCustomObject][ordered]@{\n",
    "        'CPU'     = $sortedResults['CPU'][$j].Process \n",
    "        'WS'      = $sortedResults['WS'][$j].Process \n",
    "        'Handles' = $sortedResults['HandleCount'][$j].Process \n",
    "        'Threads' = $sortedResults['Threads'][$j].Process\n",
    "        'Network' = $Network[$j]\n",
    "        'DiskIOPS'= $DiskIOPS[$j]\n",
    "    }\n",
    "}\n",
    "$harray | Format-Table -AutoSize"
   ]
  }
 ],
 "metadata": {
  "kernelspec": {
   "display_name": ".NET (PowerShell)",
   "language": "PowerShell",
   "name": ".net-pwsh"
  },
  "language_info": {
   "name": "pwsh"
  },
  "polyglot_notebook": {
   "kernelInfo": {
    "defaultKernelName": "pwsh",
    "items": [
     {
      "aliases": [],
      "languageName": "pwsh",
      "name": "pwsh"
     }
    ]
   }
  }
 },
 "nbformat": 4,
 "nbformat_minor": 2
}
