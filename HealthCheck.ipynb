{
 "cells": [
  {
   "cell_type": "markdown",
   "metadata": {},
   "source": [
    "### Health Check"
   ]
  },
  {
   "cell_type": "code",
   "execution_count": 1,
   "metadata": {
    "dotnet_interactive": {
     "language": "pwsh"
    },
    "polyglot_notebook": {
     "kernelName": "pwsh"
    },
    "vscode": {
     "languageId": "polyglot-notebook"
    }
   },
   "outputs": [
    {
     "data": {
      "text/plain": []
     },
     "metadata": {},
     "output_type": "display_data"
    },
    {
     "name": "stdout",
     "output_type": "stream",
     "text": [
      "\n",
      "Central Standard Time 12/3/2023 1:05:17 PM\n",
      "Boot                  Sun 12.3.23 11:9\n",
      "CpuUsage%             88\n",
      "RamUsage%             {55}\n",
      "C:%Free               {55}\n",
      "\n"
     ]
    }
   ],
   "source": [
    "[ordered]@{\"$((Get-TimeZone).Id)\" = Get-Date\n",
    "    'Boot'      = (Get-CimInstance win32_operatingsystem).lastbootuptime.ToString('ddd M.d.yy H:m')\n",
    "    'CpuUsage%' = (Get-CimInstance win32_processor | Measure-Object LoadPercentage -Average).Average\n",
    "    'RamUsage%' = {$os=Get-CimInstance win32_operatingsystem; [Math]::Ceiling(($os.TotalVisibleMemorySize-$os.FreePhysicalMemory)*100/$os.TotalVisibleMemorySize)}.Invoke()\n",
    "    'C:%Free'   = { $disk = Get-CimInstance Win32_LogicalDisk -Filter \"DeviceID='C:'\"; [Math]::Ceiling(($disk.FreeSpace / $disk.Size) * 100) }.Invoke()\n",
    "            } | ft -HideTableHeaders -AutoSize"
   ]
  },
  {
   "cell_type": "markdown",
   "metadata": {},
   "source": [
    "This shows which processes are consuming the most cpu, memory and network and have the most number of handles and threads currently on the system."
   ]
  },
  {
   "cell_type": "code",
   "execution_count": 4,
   "metadata": {
    "dotnet_interactive": {
     "language": "pwsh"
    },
    "polyglot_notebook": {
     "kernelName": "pwsh"
    },
    "vscode": {
     "languageId": "polyglot-notebook"
    }
   },
   "outputs": [
    {
     "name": "stdout",
     "output_type": "stream",
     "text": [
      "\n",
      "\u001b[32;1mCPU                     WS                      Handles                 Threads                 Network\u001b[0m\n",
      "\u001b[32;1m---                     --                      -------                 -------                 -------\u001b[0m\n",
      "msedge►13512            dotnet►8888             System►4                System►4                code - insiders\n",
      "msedge►7464             msedge►7464             explorer►6532           Memory Compression►2632 code - insiders\n",
      "Grammarly.Desktop►12308 dotnet►9916             msedge►7464             explorer►6532           code - insiders\n",
      "OneDrive►11916          dwm►772                 lsass►904               SearchHost►6964         code - insiders\n",
      "msedge►6124             Grammarly.Desktop►12308 OneDrive►11916          msedge►7464             code - insiders\n",
      "Code - Insiders►1996    Code - Insiders►6892    Grammarly.Desktop►12308 Code - Insiders►12716   svchost\n",
      "explorer►6532           Code - Insiders►11536   SearchHost►6964         msedgewebview2►14164    code - insiders\n",
      "msedge►9736             Code - Insiders►1996    MonitoringHost►4256     msedgewebview2►10256    code - insiders\n",
      "Code - Insiders►6892    SearchHost►6964         svchost►120             Grammarly.Desktop►12308 dwm\n",
      "Code - Insiders►11536   svchost►1364            dotnet►8888             dotnet►9916             code - insiders\n",
      "\n"
     ]
    }
   ],
   "source": [
    "$objArr = Get-Process | Select-Object @{Name='Process'; Expression={$_.ProcessName+'►'+$_.Id}}, CPU, ID, WS, HandleCount, Threads\n",
    "# Sort for each property separately\n",
    "$sortedByCPU = $objArr | Sort-Object CPU -Descending | Select-Object -First 10\n",
    "$sortedByWS = $objArr | Sort-Object WS -Descending | Select-Object -First 10\n",
    "$sortedByHandles = $objArr | Sort-Object HandleCount -Descending | Select-Object -First 10\n",
    "$sortedByThreads = $objArr | Sort-Object Threads -Descending | Select-Object -First 10\n",
    "\n",
    "$Network = (Get-Counter '\\Process(*)\\IO Read Operations/sec').CounterSamples.Where({$_.InstanceName -ne \"_Total\" -and $_.InstanceName -ne \"Idle\"})|\n",
    "                sort cookedvalue -Descending|Select -Property instancename -First 10\n",
    "\n",
    "$harray = for ($j = 0; $j -lt 10; $j++) {\n",
    "    [PSCustomObject][ordered]@{\n",
    "        'CPU'     = $sortedByCPU[$j].Process\n",
    "        'WS'      = $sortedByWS[$j].Process\n",
    "        'Handles' = $sortedByHandles[$j].Process\n",
    "        'Threads' = $sortedByThreads[$j].Process\n",
    "        'Network' = $Network[$j].InstanceName\n",
    "    }\n",
    "}\n",
    "$harray | Format-Table -AutoSize"
   ]
  }
 ],
 "metadata": {
  "language_info": {
   "name": "pwsh"
  }
 },
 "nbformat": 4,
 "nbformat_minor": 2
}
